{
 "cells": [
  {
   "cell_type": "code",
   "execution_count": 53,
   "metadata": {},
   "outputs": [],
   "source": [
    "import numpy as np\n",
    "import pandas as pd\n",
    "import string\n",
    "from nltk.tokenize import word_tokenize\n",
    "from nltk.corpus import stopwords"
   ]
  },
  {
   "cell_type": "code",
   "execution_count": 54,
   "metadata": {},
   "outputs": [],
   "source": [
    "training_df = pd.read_csv('WikiQA-train.tsv', sep='\\t')"
   ]
  },
  {
   "cell_type": "code",
   "execution_count": 55,
   "metadata": {},
   "outputs": [],
   "source": [
    "def preprocess_text(text):\n",
    "\n",
    "    text = text.lower()\n",
    "    text = ''.join([char for char in text if char not in string.punctuation])\n",
    "\n",
    "    words = word_tokenize(text)\n",
    "\n",
    "    stop_words = set(stopwords.words('english'))\n",
    "    \n",
    "    filtered_words = [word for word in words if word not in stop_words]\n",
    "    \n",
    "    return ' '.join(filtered_words)\n",
    "\n"
   ]
  },
  {
   "cell_type": "code",
   "execution_count": 56,
   "metadata": {},
   "outputs": [],
   "source": [
    "# Preprocess the dataset, removing labels 0\n",
    "filtered_training = training_df.copy()[training_df['Label'] == 1]"
   ]
  },
  {
   "cell_type": "code",
   "execution_count": 57,
   "metadata": {},
   "outputs": [],
   "source": [
    "class SimpleAssistant:\n",
    "    def __init__(self, data, k=3):\n",
    "        self.data = data\n",
    "        self.k = k #amount of keywords to match\n",
    "\n",
    "    def find_answer(self, question):\n",
    "        question_keywords = preprocess_text(question).split()\n",
    "\n",
    "        def contains_keywords(answer):\n",
    "            matches = sum(keyword in answer['Question'] for keyword in question_keywords)\n",
    "            return matches >= self.k\n",
    "\n",
    "        matches = self.data[self.data.apply(contains_keywords, axis=1)]\n",
    "        \n",
    "        for _, row in matches.iterrows():\n",
    "            if row['Label'] == 1:\n",
    "                return row['Sentence']\n",
    "            \n",
    "        return 'I am not able to answer this question.'\n",
    "\n"
   ]
  },
  {
   "cell_type": "code",
   "execution_count": 58,
   "metadata": {},
   "outputs": [],
   "source": [
    "assistant = SimpleAssistant(filtered_training, k=3)"
   ]
  },
  {
   "cell_type": "code",
   "execution_count": 59,
   "metadata": {},
   "outputs": [
    {
     "name": "stdout",
     "output_type": "stream",
     "text": [
      "I am not able to answer this question.\n"
     ]
    }
   ],
   "source": [
    "question = 'When was'# Thomas Jefferson president?'\n",
    "\n",
    "print(assistant.find_answer(question))"
   ]
  },
  {
   "cell_type": "code",
   "execution_count": 60,
   "metadata": {},
   "outputs": [
    {
     "name": "stdout",
     "output_type": "stream",
     "text": [
      "South Africa has eleven official languages : Afrikaans , English , Ndebele , Northern Sotho , Sotho , Swazi , Tswana , Tsonga , Venda , Xhosa and Zulu .\n"
     ]
    }
   ],
   "source": [
    "question = 'Which languages are spoken in South Africa?'\n",
    "\n",
    "print(assistant.find_answer(question))"
   ]
  },
  {
   "cell_type": "code",
   "execution_count": 61,
   "metadata": {},
   "outputs": [
    {
     "name": "stdout",
     "output_type": "stream",
     "text": [
      "There are approximately 642 skeletal muscles within the typical human, and almost every muscle constitutes one part of a pair of identical bilateral muscles, found on both sides, resulting in approximately 320 pairs of muscles, as presented in this article.\n"
     ]
    }
   ],
   "source": [
    "question = 'How many muscles are there in a human body?'\n",
    "\n",
    "print(assistant.find_answer(question))"
   ]
  },
  {
   "cell_type": "code",
   "execution_count": 62,
   "metadata": {},
   "outputs": [
    {
     "name": "stdout",
     "output_type": "stream",
     "text": [
      "I am not able to answer this question.\n"
     ]
    }
   ],
   "source": [
    "question = 'How many muscles do humans have?'\n",
    "\n",
    "print(assistant.find_answer(question))"
   ]
  },
  {
   "cell_type": "code",
   "execution_count": null,
   "metadata": {},
   "outputs": [],
   "source": []
  },
  {
   "cell_type": "code",
   "execution_count": 63,
   "metadata": {},
   "outputs": [],
   "source": [
    "assistant_2keywords = SimpleAssistant(filtered_training, k=2)\n"
   ]
  },
  {
   "cell_type": "code",
   "execution_count": 64,
   "metadata": {},
   "outputs": [
    {
     "name": "stdout",
     "output_type": "stream",
     "text": [
      "Lysergic acid diethylamide, abbreviated LSD or LSD-25, also known as lysergide ( INN ) and colloquially as acid, is a semisynthetic psychedelic drug of the ergoline family, well known for its psychological effects which can include altered thinking processes, closed and open eye visuals, synesthesia , an altered sense of time and spiritual experiences , as well as for its key role in 1960s counterculture .\n"
     ]
    }
   ],
   "source": [
    "question = 'How many muscles are there in a human body?'\n",
    "\n",
    "print(assistant_2keywords.find_answer(question))"
   ]
  },
  {
   "cell_type": "code",
   "execution_count": 65,
   "metadata": {},
   "outputs": [
    {
     "name": "stdout",
     "output_type": "stream",
     "text": [
      "There are approximately 642 skeletal muscles within the typical human, and almost every muscle constitutes one part of a pair of identical bilateral muscles, found on both sides, resulting in approximately 320 pairs of muscles, as presented in this article.\n"
     ]
    }
   ],
   "source": [
    "question = 'How many muscles do humans have?'\n",
    "\n",
    "print(assistant_2keywords.find_answer(question))"
   ]
  },
  {
   "cell_type": "code",
   "execution_count": 66,
   "metadata": {},
   "outputs": [],
   "source": [
    "import tkinter as tk\n",
    "from tkinter import scrolledtext\n",
    "\n",
    "class DialogueGUI:\n",
    "    def __init__(self, master):\n",
    "        self.master = master\n",
    "        master.title('Simple assistant')\n",
    "\n",
    "        self.question_label = tk.Label(master, text='Ask a question:')\n",
    "        self.question_label.pack()\n",
    "\n",
    "        self.question_input = tk.Entry(master)\n",
    "        self.question_input.pack()\n",
    "\n",
    "        self.ask_button = tk.Button(master, text='Ask', command=self.get_answer)\n",
    "        self.ask_button.pack()\n",
    "\n",
    "        self.response_area = scrolledtext.ScrolledText(master, wrap=tk.WORD, width=40, height=10)\n",
    "        self.response_area.pack()\n",
    "        self.response_area.insert(tk.INSERT, 'Assistant: Ask a question.\\n')\n",
    "        self.response_area.configure(state='disabled')\n",
    "\n",
    "    def get_answer(self):\n",
    "        question = self.question_input.get()\n",
    "        if question.strip() != '':\n",
    "            self.response_area.configure(state='normal')\n",
    "            self.response_area.insert(tk.END, 'You: ' + question + '\\n')\n",
    "            answer = assistant.find_answer(question)\n",
    "            self.response_area.insert(tk.END, 'Assistant: ' + answer + '\\n')\n",
    "            self.response_area.configure(state='disabled')\n",
    "            self.response_area.yview(tk.END)\n",
    "            self.question_input.delete(0, tk.END)\n",
    "\n"
   ]
  },
  {
   "cell_type": "code",
   "execution_count": 67,
   "metadata": {},
   "outputs": [],
   "source": [
    "assistant = SimpleAssistant(filtered_training)\n",
    "\n",
    "root = tk.Tk()\n",
    "gui = DialogueGUI(root)\n",
    "root.mainloop()"
   ]
  },
  {
   "cell_type": "code",
   "execution_count": null,
   "metadata": {},
   "outputs": [],
   "source": []
  }
 ],
 "metadata": {
  "kernelspec": {
   "display_name": "base",
   "language": "python",
   "name": "python3"
  },
  "language_info": {
   "codemirror_mode": {
    "name": "ipython",
    "version": 3
   },
   "file_extension": ".py",
   "mimetype": "text/x-python",
   "name": "python",
   "nbconvert_exporter": "python",
   "pygments_lexer": "ipython3",
   "version": "3.8.13"
  }
 },
 "nbformat": 4,
 "nbformat_minor": 2
}
