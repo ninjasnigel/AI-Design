{
 "cells": [
  {
   "cell_type": "code",
   "execution_count": null,
   "metadata": {},
   "outputs": [],
   "source": [
    "import random"
   ]
  },
  {
   "cell_type": "code",
   "execution_count": 22,
   "metadata": {},
   "outputs": [],
   "source": [
    "class ChatBot:\n",
    "    \n",
    "    def __init__(self):\n",
    "        \n",
    "        self.tasks = {0: ['weather', 'rain', 'sunny', 'cloudy', 'snow'],\n",
    "                      1: ['restaurant', 'eat', 'food', 'hungry'],\n",
    "                      2: ['tram', 'bus', 'train', 'boat']}\n",
    "\n",
    "\n",
    "    def handle_user_request(self, user_input):\n",
    "        \n",
    "        user_input = user_input.lower()\n",
    "        \n",
    "        for task, keywords in self.tasks.items():\n",
    "            \n",
    "            if any(keyword in user_input for keyword in keywords):\n",
    "                return self.get_task(task, user_input)\n",
    "            \n",
    "        return 'sorry, I no speak english' #if no keywords are found\n",
    "    \n",
    "\n",
    "    def get_task(self, task, user_input):\n",
    "\n",
    "        if task == 0:\n",
    "            return self.weather_forecast(user_input)\n",
    "        \n",
    "        elif task == 1:\n",
    "            return self.suggest_restaurant(user_input)\n",
    "        \n",
    "        elif task == 2: \n",
    "            return self.find_next_transport(user_input)\n",
    "        \n",
    "        return 'you are using the default version. please upgrade to get all premium benefits'\n",
    "\n",
    "\n",
    "    def weather_forecast(self, user_input):\n",
    "\n",
    "        keyword = next((keyword for keyword in self.tasks[0] if keyword in user_input), None)\n",
    "        \n",
    "        if 'weather' not in user_input:\n",
    "\n",
    "            chance = random.choice(['high', 'low'])\n",
    "\n",
    "            return f'The chance of {keyword} today is {chance}.'\n",
    "\n",
    "        else: \n",
    "\n",
    "            forecasts = ['sunny', 'rainy', 'cloudy', 'snowy']\n",
    "\n",
    "            return f'The weather is going to be {random.choice(forecasts)} today.'\n",
    "    \n",
    "\n",
    "    def suggest_restaurant(self, user_input):\n",
    "\n",
    "        restaurants = ['Kårrestaurangen', 'Bulten', 'Linsen', 'Wijkanders']\n",
    "\n",
    "        return f'I recommend you should eat at {random.choice(restaurants)}.'\n",
    "    \n",
    "\n",
    "    def find_next_transport(self, user_input):\n",
    "\n",
    "        times = [5, 10, 15, 20, 25]\n",
    "\n",
    "\n",
    "        return f'The next tram arrives in {random.choice(times)} minutes.'\n"
   ]
  },
  {
   "cell_type": "code",
   "execution_count": 24,
   "metadata": {},
   "outputs": [
    {
     "name": "stdout",
     "output_type": "stream",
     "text": [
      "Request: Is it going to be sunny today?\n",
      "\n",
      "Answer: The chance of sunny today is low.\n"
     ]
    }
   ],
   "source": [
    "bot = ChatBot()\n",
    "\n",
    "request = 'Is it going to be sunny today?'\n",
    "request2 = 'How is the weather today?'\n",
    "\n",
    "print('Request:', request)\n",
    "print('\\nAnswer:', bot.handle_user_request(request))"
   ]
  },
  {
   "cell_type": "code",
   "execution_count": null,
   "metadata": {},
   "outputs": [],
   "source": []
  },
  {
   "cell_type": "markdown",
   "metadata": {},
   "source": [
    "### More advanved..."
   ]
  },
  {
   "cell_type": "code",
   "execution_count": 25,
   "metadata": {},
   "outputs": [],
   "source": [
    "#import nltk\n",
    "#nltk.download('punkt')\n",
    "#nltk.download('stopwords')\n",
    "\n",
    "import numpy as np\n",
    "import pandas as pd\n",
    "import tensorflow as tf\n",
    "import string\n",
    "from nltk.tokenize import word_tokenize\n",
    "from nltk.corpus import stopwords\n",
    "from sklearn.model_selection import train_test_split\n",
    "#from tensorflow.keras.preprocessing.text import Tokenizer\n",
    "#from tensorflow.keras.preprocessing.sequence import pad_sequences\n"
   ]
  },
  {
   "cell_type": "code",
   "execution_count": 7,
   "metadata": {},
   "outputs": [],
   "source": [
    "training_df = pd.read_csv('WikiQA-train.tsv', sep='\\t')"
   ]
  },
  {
   "cell_type": "code",
   "execution_count": 8,
   "metadata": {},
   "outputs": [],
   "source": [
    "def preprocess_text(text):\n",
    "\n",
    "    text = text.lower()\n",
    "\n",
    "    text = ''.join([char for char in text if char not in string.punctuation])\n",
    "\n",
    "    words = word_tokenize(text)\n",
    "\n",
    "    stop_words = set(stopwords.words('english'))\n",
    "    \n",
    "    filtered_words = [word for word in words if word not in stop_words]\n",
    "    \n",
    "    return ' '.join(filtered_words)\n",
    "\n"
   ]
  },
  {
   "cell_type": "code",
   "execution_count": 67,
   "metadata": {},
   "outputs": [],
   "source": [
    "filtered_training = training_df.copy()[training_df['Label'] == 1]\n",
    "\n",
    "#filtered_training['Question'] = filtered_training['Question'].apply(preprocess_text)\n",
    "#filtered_training['Sentence'] = filtered_training['Sentence'].apply(preprocess_text)"
   ]
  },
  {
   "cell_type": "code",
   "execution_count": 100,
   "metadata": {},
   "outputs": [],
   "source": [
    "class SimpleAssistant:\n",
    "    def __init__(self, data):\n",
    "        self.data = data\n",
    "\n",
    "    def find_answer(self, question):\n",
    "\n",
    "        question_keywords = preprocess_text(question).split()\n",
    "\n",
    "\n",
    "        def contains_keywords(answer):\n",
    "            matches = sum(keyword in answer['Question'] for keyword in question_keywords)\n",
    "            return matches >= 3\n",
    "\n",
    "        matches = self.data[self.data.apply(contains_keywords, axis=1)]\n",
    "        \n",
    "        for _, row in matches.iterrows():\n",
    "            if row['Label'] == 1:\n",
    "                return row['Sentence']\n",
    "            \n",
    "        return 'I am not able to answer that question.'\n",
    "\n"
   ]
  },
  {
   "cell_type": "code",
   "execution_count": 101,
   "metadata": {},
   "outputs": [
    {
     "name": "stdout",
     "output_type": "stream",
     "text": [
      "Thomas Jefferson (April 13, 1743 (April 2, 1743 O.S. ) – July 4, 1826) was an American Founding Father , the principal author of the Declaration of Independence (1776) and the third President of the United States (1801–1809).\n"
     ]
    }
   ],
   "source": [
    "assistant = SimpleAssistant(filtered_training)\n",
    "\n",
    "question = 'When was Thomas Jefferson president?'\n",
    "\n",
    "print(assistant.find_answer(question))"
   ]
  },
  {
   "cell_type": "code",
   "execution_count": 103,
   "metadata": {},
   "outputs": [
    {
     "name": "stdout",
     "output_type": "stream",
     "text": [
      "South Africa has eleven official languages : Afrikaans , English , Ndebele , Northern Sotho , Sotho , Swazi , Tswana , Tsonga , Venda , Xhosa and Zulu .\n"
     ]
    }
   ],
   "source": [
    "question = 'Which languages are spoken in South Africa?'\n",
    "\n",
    "print(assistant.find_answer(question))"
   ]
  },
  {
   "cell_type": "code",
   "execution_count": null,
   "metadata": {},
   "outputs": [],
   "source": []
  }
 ],
 "metadata": {
  "kernelspec": {
   "display_name": "base",
   "language": "python",
   "name": "python3"
  },
  "language_info": {
   "codemirror_mode": {
    "name": "ipython",
    "version": 3
   },
   "file_extension": ".py",
   "mimetype": "text/x-python",
   "name": "python",
   "nbconvert_exporter": "python",
   "pygments_lexer": "ipython3",
   "version": "3.8.13"
  }
 },
 "nbformat": 4,
 "nbformat_minor": 2
}
