{
 "cells": [
  {
   "cell_type": "code",
   "execution_count": 61,
   "metadata": {},
   "outputs": [],
   "source": [
    "import numpy as np\n",
    "import pandas as pd\n",
    "from sklearn.cluster import KMeans\n",
    "from sklearn.preprocessing import StandardScaler"
   ]
  },
  {
   "cell_type": "code",
   "execution_count": 62,
   "metadata": {},
   "outputs": [],
   "source": [
    "# Read in the data\n",
    "beijing_data = pd.read_csv(\"Beijing_labeled.csv\")\n",
    "chengdu_data = pd.read_csv('Chengdu_labeled.csv')\n",
    "guangzhou_data = pd.read_csv('Guangzhou_labeled.csv')\n",
    "shanghai_data = pd.read_csv('Shanghai_labeled.csv')\n",
    "shenyang_data = pd.read_csv('Shenyang_labeled.csv')"
   ]
  },
  {
   "cell_type": "code",
   "execution_count": 63,
   "metadata": {},
   "outputs": [],
   "source": [
    "X_train = beijing_data.drop('PM_HIGH', axis=1)\n",
    "y_train = beijing_data['PM_HIGH'].astype(int)\n",
    "\n",
    "X_val = shenyang_data.drop('PM_HIGH', axis=1)\n",
    "y_val = shenyang_data['PM_HIGH'].astype(int)\n",
    "\n",
    "# Standardize the data\n",
    "scaler = StandardScaler()\n",
    "X_train_scaled = scaler.fit_transform(X_train)\n",
    "X_val_scaled = scaler.transform(X_val)  # Use the same scaler to transform validation data\n"
   ]
  },
  {
   "cell_type": "code",
   "execution_count": 64,
   "metadata": {},
   "outputs": [],
   "source": [
    "class Classifier:\n",
    "    def __init__(self, n_clusters=2):\n",
    "        self.kmeans = KMeans(n_clusters=n_clusters, random_state=0)\n",
    "        self.cluster_labels = None\n",
    "\n",
    "    def fit(self, X, y):\n",
    "        # Fit the classifier\n",
    "        self.kmeans.fit(X)\n",
    "        # Assign labels to clusters based on majority vote\n",
    "        self.cluster_labels = np.zeros(self.kmeans.n_clusters, dtype=int)\n",
    "        for i in range(self.kmeans.n_clusters):\n",
    "            # Find the index of points in cluster i\n",
    "            indexes = np.where(self.kmeans.labels_ == i)[0]\n",
    "            # Assign the majority label to the cluster\n",
    "            cluster_label = np.bincount(y[indexes]).argmax()\n",
    "            self.cluster_labels[i] = cluster_label\n",
    "\n",
    "    def predict(self, X):\n",
    "        # Predict the labels\n",
    "        cluster_indexes = self.kmeans.predict(X)\n",
    "        return np.array([self.cluster_labels[i] for i in cluster_indexes])\n",
    "    \n",
    "    def score(self, X, y):\n",
    "        # Score the classifier\n",
    "        predictions = self.predict(X)\n",
    "        return np.mean(predictions == y)"
   ]
  },
  {
   "cell_type": "code",
   "execution_count": 71,
   "metadata": {},
   "outputs": [
    {
     "name": "stderr",
     "output_type": "stream",
     "text": [
      "c:\\Users\\David\\AppData\\Local\\Programs\\Python\\Python311\\Lib\\site-packages\\sklearn\\cluster\\_kmeans.py:870: FutureWarning: The default value of `n_init` will change from 10 to 'auto' in 1.4. Set the value of `n_init` explicitly to suppress the warning\n",
      "  warnings.warn(\n"
     ]
    },
    {
     "name": "stdout",
     "output_type": "stream",
     "text": [
      "Training Accuracy:  0.7349106711733462\n",
      "Validation Accuracy:  0.7342709104367136\n"
     ]
    }
   ],
   "source": [
    "classifier = Classifier(n_clusters=20)  # Consider experimenting with the number of clusters\n",
    "classifier.fit(X_train_scaled, y_train)\n",
    "print(\"Training Accuracy: \", classifier.score(X_train_scaled, y_train))\n",
    "print(\"Validation Accuracy: \", classifier.score(X_val_scaled, y_val))"
   ]
  },
  {
   "cell_type": "code",
   "execution_count": 72,
   "metadata": {},
   "outputs": [
    {
     "name": "stdout",
     "output_type": "stream",
     "text": [
      "Chengdu Accuracy:  0.7099099099099099\n",
      "Guangzhou Accuracy:  0.7707100591715976\n",
      "Shanghai Accuracy:  0.7342709104367136\n"
     ]
    }
   ],
   "source": [
    "# Score for the other cities\n",
    "X_val = chengdu_data.drop('PM_HIGH', axis=1)\n",
    "y_val = chengdu_data['PM_HIGH'].astype(int)\n",
    "X_val_scaled = scaler.transform(X_val)\n",
    "print(\"Chengdu Accuracy: \", classifier.score(X_val_scaled, y_val))\n",
    "\n",
    "X_val = guangzhou_data.drop('PM_HIGH', axis=1)\n",
    "y_val = guangzhou_data['PM_HIGH'].astype(int)\n",
    "X_val_scaled = scaler.transform(X_val)\n",
    "print(\"Guangzhou Accuracy: \", classifier.score(X_val_scaled, y_val))\n",
    "\n",
    "X_val = shanghai_data.drop('PM_HIGH', axis=1)\n",
    "y_val = shanghai_data['PM_HIGH'].astype(int)\n",
    "X_val_scaled = scaler.transform(X_val)\n",
    "print(\"Shanghai Accuracy: \", classifier.score(X_val_scaled, y_val))"
   ]
  }
 ],
 "metadata": {
  "kernelspec": {
   "display_name": "Python 3",
   "language": "python",
   "name": "python3"
  },
  "language_info": {
   "codemirror_mode": {
    "name": "ipython",
    "version": 3
   },
   "file_extension": ".py",
   "mimetype": "text/x-python",
   "name": "python",
   "nbconvert_exporter": "python",
   "pygments_lexer": "ipython3",
   "version": "3.11.2"
  }
 },
 "nbformat": 4,
 "nbformat_minor": 2
}
