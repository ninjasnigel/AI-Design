{
 "cells": [
  {
   "cell_type": "markdown",
   "metadata": {},
   "source": [
    "# **Module 3: AI tools**\n",
    "## DAT410\n",
    "\n",
    "### Group 29 \n",
    "### David Laessker, 980511-5012, laessker@chalmers.se\n",
    "\n",
    "### Oskar Palmgren, 010529-4714, oskarpal@chalmers.se\n",
    "\n",
    "\n",
    "\n",
    "We hereby declare that we have both actively participated in solving every exercise. All solutions are entirely our own work, without having taken part of other solutions.\n",
    "\n",
    "___\n"
   ]
  },
  {
   "cell_type": "markdown",
   "metadata": {},
   "source": [
    "## 1) Article summary and take-aways"
   ]
  },
  {
   "cell_type": "markdown",
   "metadata": {},
   "source": [
    "The article talks about technical debt, specifically in machine learning. They argue that ML system has a special capacity to incur technical debt. It mentions different aspects of this. \n",
    "\n",
    "In the section (2 Complex Models Erode Boundaries) we particilarly thought that the examples of Correction Cascaces and Undeclared customers were interesting. \n",
    "\n",
    "In the section (3 Data Dependencies Cost More than Code Dependecies) it mentions how some unstable or underitilized data dependenencies can be detremental in the long term. \n",
    "\n",
    "In the section (4 Feedback Loops) it talks about how some aspects of a system may influence the functionality of others without the direct knowledge of the developers. We particularly thought that the example of how different recommendation systems on a website could influence eachother was interesting.\n",
    "\n",
    "Section (5 ML-System Anti-Patterns) talks about the importance of abstraction and structure when writing ML code. How package structure and code visibility can be important, and gives examples of certain pitfalls that can happen when implemnented correctly or when the code is worked on by different people with different underlying knowledge of the previous implementations.\n",
    "\n",
    "In section (6 Configuration Debt) the article gives examples of how the imporance of proper configuration of ML projects/implementations. It should be easy for a new user to make changes to the configuration and recognize the differences in configurations, while reducing the amounts of possible errors that can be made, while also easing the regonition of these potential errors.\n",
    "\n",
    "The Section (7 Dealing with changes in the external world) mentions several ideas on how to keep a system ready for change in the external world, and how to test the system so that the developers are able to properly adapt the system to the changes.\n",
    "\n",
    "(8 Other Areas of ML-related Debt) highlights some other important things like Rerproducability-, Procces Management, and Cultural Debt.\n",
    "\n",
    "In the last conclusion chapter they discuss how to look at technical debt in ML systems and they mention that they hope the paper can help aid in engineers having the ability to create more maintainable and sustainable systems.\n",
    "\n",
    "Our takaways were mainly the importance of considering many aspects on how the ML code/system is integreated with the data and the world around it. To always keep in mind that for code to be usable by future engineers, or the developers themselves in the future, it is important that things are clear, structured, and that the system dependencies are well thought out. Sometimes things can influence eachother without our knowledge, and that can be a detrement to the system."
   ]
  },
  {
   "cell_type": "markdown",
   "metadata": {},
   "source": [
    "___\n",
    "## 2) Implementation\n",
    "\n",
    "We use the Bejing data for training and the shenyang data for validation. In order to increase the accuracy of our k-means classification we implemented majority vote in out fit function. In order to figure out which amount of clusters worked best for our data, we used F1-score on our validation data, p, instead of just using accuracy score. We noticed that in the case we used two clusters, it would render the highest, "
   ]
  },
  {
   "cell_type": "code",
   "execution_count": 1,
   "metadata": {},
   "outputs": [],
   "source": [
    "import numpy as np\n",
    "import pandas as pd\n",
    "from sklearn.cluster import KMeans\n",
    "from sklearn.preprocessing import StandardScaler\n",
    "from sklearn.metrics import confusion_matrix\n",
    "import matplotlib.pyplot as plt\n",
    "import seaborn as sns"
   ]
  },
  {
   "cell_type": "code",
   "execution_count": 2,
   "metadata": {},
   "outputs": [],
   "source": [
    "# Read in the data\n",
    "beijing_data = pd.read_csv(\"Beijing_labeled.csv\")\n",
    "chengdu_data = pd.read_csv('Chengdu_labeled.csv')\n",
    "guangzhou_data = pd.read_csv('Guangzhou_labeled.csv')\n",
    "shanghai_data = pd.read_csv('Shanghai_labeled.csv')\n",
    "shenyang_data = pd.read_csv('Shenyang_labeled.csv')"
   ]
  },
  {
   "cell_type": "code",
   "execution_count": 11,
   "metadata": {},
   "outputs": [],
   "source": [
    "X_train = beijing_data.copy().drop('PM_HIGH', axis=1)\n",
    "y_train = beijing_data.copy()['PM_HIGH'].astype(int)\n",
    "\n",
    "X_val = shenyang_data.copy().drop('PM_HIGH', axis=1)\n",
    "y_val = shenyang_data.copy()['PM_HIGH'].astype(int)\n",
    "\n",
    "# Standardize the data\n",
    "scaler = StandardScaler()\n",
    "X_train_scaled = scaler.fit_transform(X_train)\n",
    "X_val_scaled = scaler.transform(X_val)  # Use the same scaler to transform validation data\n"
   ]
  },
  {
   "cell_type": "code",
   "execution_count": 4,
   "metadata": {},
   "outputs": [],
   "source": [
    "class Classifier:\n",
    "    def __init__(self, n_clusters=2):\n",
    "        self.kmeans = KMeans(n_clusters=n_clusters, random_state=0, n_init=10)\n",
    "        self.cluster_labels = None\n",
    "\n",
    "    def fit(self, X, y):\n",
    "        # Fit the classifier\n",
    "        self.kmeans.fit(X)\n",
    "        self.cluster_labels = np.zeros(self.kmeans.n_clusters, dtype=int)\n",
    "        for i in range(self.kmeans.n_clusters):\n",
    "            \"\"\" \n",
    "            Assign labels to clusters based on majority vote\n",
    "\n",
    "            - Segment the training data into clusters.\n",
    "\n",
    "            - For each cluster, figure out which label (0 for low pollution, 1 for high pollution) \n",
    "            is most common among the data points in that cluster.\n",
    "\n",
    "            -Assign this most common label to the cluster itself, effectively \"labeling\" \n",
    "            the cluster based on the predominant label of its members.\n",
    "            \"\"\"\n",
    "            # Find the index of points in cluster i\n",
    "            indexes = np.where(self.kmeans.labels_ == i)[0]\n",
    "            # Assign the majority label to the cluster\n",
    "            cluster_label = np.bincount(y[indexes]).argmax()\n",
    "            self.cluster_labels[i] = cluster_label\n",
    "\n",
    "    def predict(self, X):\n",
    "        # Predict the labels\n",
    "        cluster_indexes = self.kmeans.predict(X)\n",
    "        return np.array([self.cluster_labels[i] for i in cluster_indexes])\n",
    "    \n",
    "    def score(self, X, y):\n",
    "        # Score the classifier\n",
    "        predictions = self.predict(X)\n",
    "        return np.mean(predictions == y)\n",
    "    \n",
    "    def f1_score(self, X, y):\n",
    "        # F1 score\n",
    "        predictions = self.predict(X)\n",
    "        tp = np.sum((predictions == 1) & (y == 1))\n",
    "        fp = np.sum((predictions == 1) & (y == 0))\n",
    "        fn = np.sum((predictions == 0) & (y == 1))\n",
    "        precision = tp / (tp + fp)\n",
    "        recall = tp / (tp + fn)\n",
    "        return 2 * precision * recall / (precision + recall)\n",
    "    \n",
    "    def conf_mat(self, X, y):\n",
    "        \n",
    "        matrix = confusion_matrix(self.predict(X), y)\n",
    "        \n",
    "        sns.heatmap(matrix, annot=True, fmt=\"d\", cmap=\"Blues\")\n",
    "    \n",
    "    "
   ]
  },
  {
   "cell_type": "code",
   "execution_count": null,
   "metadata": {},
   "outputs": [
    {
     "name": "stdout",
     "output_type": "stream",
     "text": [
      "Training Accuracy:  0.797682279092226 F1 Score:  0.6517040731504572\n",
      "Validation Accuracy:  0.7317961165048543 F1 Score:  0.40750670241286874\n"
     ]
    }
   ],
   "source": [
    "classifier = Classifier(n_clusters=35)  # Consider experimenting with the number of clusters\n",
    "classifier.fit(X_train_scaled, y_train)\n",
    "print(\"Training Accuracy: \", classifier.score(X_train_scaled, y_train), \"F1 Score: \", classifier.f1_score(X_train_scaled, y_train))\n",
    "print(\"Validation Accuracy: \", classifier.score(X_val_scaled, y_val), \"F1 Score: \", classifier.f1_score(X_val_scaled, y_val))"
   ]
  },
  {
   "cell_type": "code",
   "execution_count": null,
   "metadata": {},
   "outputs": [],
   "source": [
    "#classifier.conf_mat(X_val_scaled, y_val)"
   ]
  },
  {
   "cell_type": "code",
   "execution_count": 18,
   "metadata": {},
   "outputs": [
    {
     "name": "stderr",
     "output_type": "stream",
     "text": [
      "C:\\Users\\P_Osk\\AppData\\Local\\Temp\\ipykernel_18728\\3428331448.py:44: RuntimeWarning: invalid value encountered in scalar divide\n",
      "  precision = tp / (tp + fp)\n",
      "C:\\Users\\P_Osk\\AppData\\Local\\Temp\\ipykernel_18728\\3428331448.py:44: RuntimeWarning: invalid value encountered in scalar divide\n",
      "  precision = tp / (tp + fp)\n",
      "C:\\Users\\P_Osk\\AppData\\Local\\Temp\\ipykernel_18728\\3428331448.py:44: RuntimeWarning: invalid value encountered in scalar divide\n",
      "  precision = tp / (tp + fp)\n",
      "C:\\Users\\P_Osk\\AppData\\Local\\Temp\\ipykernel_18728\\3428331448.py:44: RuntimeWarning: invalid value encountered in scalar divide\n",
      "  precision = tp / (tp + fp)\n"
     ]
    },
    {
     "data": {
      "image/png": "[encoded data removed]",
      "text/plain": [
       "<Figure size 640x480 with 1 Axes>"
      ]
     },
     "metadata": {},
     "output_type": "display_data"
    }
   ],
   "source": [
    "# Find out which amount of clusters has the highest F1 score, plot the results\n",
    "f1_scores = []\n",
    "accuracy = []\n",
    "for n_clusters in range(2, 150):\n",
    "    classifier = Classifier(n_clusters=n_clusters)\n",
    "    classifier.fit(X_train_scaled, y_train)\n",
    "    accuracy.append(classifier.score(X_val_scaled, y_val))\n",
    "    f1_scores.append(classifier.f1_score(X_val_scaled, y_val))\n",
    "\n",
    "import matplotlib.pyplot as plt\n",
    "plt.plot(range(2, 150), f1_scores, label='F1 Score')\n",
    "plt.plot(range(2, 150), accuracy, label='Accuracy')\n",
    "plt.xlabel('Number of clusters')\n",
    "plt.ylabel('Score')\n",
    "plt.legend()\n",
    "plt.show()"
   ]
  },
  {
   "cell_type": "code",
   "execution_count": null,
   "metadata": {},
   "outputs": [],
   "source": []
  },
  {
   "cell_type": "code",
   "execution_count": null,
   "metadata": {},
   "outputs": [
    {
     "name": "stdout",
     "output_type": "stream",
     "text": [
      "Chengdu Accuracy:  0.6396396396396397\n",
      "Guangzhou Accuracy:  0.6745562130177515\n",
      "Shanghai Accuracy:  0.616580310880829\n"
     ]
    }
   ],
   "source": [
    "# Score for the other cities\n",
    "X_val = chengdu_data.drop('PM_HIGH', axis=1)\n",
    "y_val = chengdu_data['PM_HIGH'].astype(int)\n",
    "X_val_scaled = scaler.transform(X_val)\n",
    "print(\"Chengdu Accuracy: \", classifier.score(X_val_scaled, y_val))\n",
    "\n",
    "X_val = guangzhou_data.drop('PM_HIGH', axis=1)\n",
    "y_val = guangzhou_data['PM_HIGH'].astype(int)\n",
    "X_val_scaled = scaler.transform(X_val)\n",
    "print(\"Guangzhou Accuracy: \", classifier.score(X_val_scaled, y_val))\n",
    "\n",
    "X_val = shanghai_data.drop('PM_HIGH', axis=1)\n",
    "y_val = shanghai_data['PM_HIGH'].astype(int)\n",
    "X_val_scaled = scaler.transform(X_val)\n",
    "print(\"Shanghai Accuracy: \", classifier.score(X_val_scaled, y_val))"
   ]
  },
  {
   "cell_type": "markdown",
   "metadata": {},
   "source": [
    "# 3) Discussion\n",
    "\n"
   ]
  },
  {
   "cell_type": "code",
   "execution_count": null,
   "metadata": {},
   "outputs": [
    {
     "name": "stdout",
     "output_type": "stream",
     "text": [
      "0.50814332247557\n",
      "35\n"
     ]
    }
   ],
   "source": [
    "print(max(f1_scores))\n",
    "print(f1_scores.index(max(f1_scores)) + 20)"
   ]
  },
  {
   "cell_type": "markdown",
   "metadata": {},
   "source": [
    "The evaluated accuracy score for the cities Chengdu and Shanghai are somewhat lower than the training score, while the score for Guangzhou is higher. The lower scores are typical signs of overfitting in the model.\n",
    "\n",
    "When validating, we assume that the data for the cities have the same distribution. However, the weather and pollution varies most likely between the cities. \n",
    "\n",
    "\n",
    "We noticed during model training that with 2 clusters that the model predicted all labels to be 0. And since the distribution of the labels is 68:32, the accuracy will be high even if all predicted labels are the same. \n",
    "\n"
   ]
  },
  {
   "cell_type": "markdown",
   "metadata": {},
   "source": []
  },
  {
   "cell_type": "code",
   "execution_count": null,
   "metadata": {},
   "outputs": [],
   "source": []
  },
  {
   "cell_type": "code",
   "execution_count": null,
   "metadata": {},
   "outputs": [],
   "source": []
  }
 ],
 "metadata": {
  "kernelspec": {
   "display_name": "Python 3",
   "language": "python",
   "name": "python3"
  },
  "language_info": {
   "codemirror_mode": {
    "name": "ipython",
    "version": 3
   },
   "file_extension": ".py",
   "mimetype": "text/x-python",
   "name": "python",
   "nbconvert_exporter": "python",
   "pygments_lexer": "ipython3",
   "version": "3.8.13"
  }
 },
 "nbformat": 4,
 "nbformat_minor": 2
}
