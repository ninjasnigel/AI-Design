{
 "cells": [
  {
   "cell_type": "markdown",
   "metadata": {},
   "source": [
    "# **Module 3: AI tools**\n",
    "## DAT410\n",
    "\n",
    "### Group 29 \n",
    "### David Laessker, 980511-5012, laessker@chalmers.se\n",
    "\n",
    "### Oskar Palmgren, 010529-4714, oskarpal@chalmers.se\n",
    "\n",
    "\n",
    "\n",
    "We hereby declare that we have both actively participated in solving every exercise. All solutions are entirely our own work, without having taken part of other solutions.\n",
    "\n",
    "___\n"
   ]
  },
  {
   "cell_type": "markdown",
   "metadata": {},
   "source": [
    "## 1) Article summary and take-aways"
   ]
  },
  {
   "cell_type": "markdown",
   "metadata": {},
   "source": []
  },
  {
   "cell_type": "markdown",
   "metadata": {},
   "source": [
    "___\n",
    "## 2) Implementation"
   ]
  },
  {
   "cell_type": "code",
   "execution_count": 7,
   "metadata": {},
   "outputs": [],
   "source": [
    "import numpy as np\n",
    "import pandas as pd\n",
    "from sklearn.cluster import KMeans"
   ]
  },
  {
   "cell_type": "code",
   "execution_count": 8,
   "metadata": {},
   "outputs": [],
   "source": [
    "# Read in the data\n",
    "beijing_data = pd.read_csv(\"Beijing_labeled.csv\")\n",
    "chengdu_data = pd.read_csv('Chengdu_labeled.csv')\n",
    "guangzhou_data = pd.read_csv('Guangzhou_labeled.csv')\n",
    "shanghai_data = pd.read_csv('Shanghai_labeled.csv')\n",
    "shenyang_data = pd.read_csv('Shenyang_labeled.csv')"
   ]
  },
  {
   "cell_type": "code",
   "execution_count": 5,
   "metadata": {},
   "outputs": [
    {
     "data": {
      "text/html": [
       "<div>\n",
       "<style scoped>\n",
       "    .dataframe tbody tr th:only-of-type {\n",
       "        vertical-align: middle;\n",
       "    }\n",
       "\n",
       "    .dataframe tbody tr th {\n",
       "        vertical-align: top;\n",
       "    }\n",
       "\n",
       "    .dataframe thead th {\n",
       "        text-align: right;\n",
       "    }\n",
       "</style>\n",
       "<table border=\"1\" class=\"dataframe\">\n",
       "  <thead>\n",
       "    <tr style=\"text-align: right;\">\n",
       "      <th></th>\n",
       "      <th>season</th>\n",
       "      <th>DEWP</th>\n",
       "      <th>HUMI</th>\n",
       "      <th>PRES</th>\n",
       "      <th>TEMP</th>\n",
       "      <th>Iws</th>\n",
       "      <th>precipitation</th>\n",
       "      <th>cbwd_NE</th>\n",
       "      <th>cbwd_NW</th>\n",
       "      <th>cbwd_SE</th>\n",
       "      <th>PM_HIGH</th>\n",
       "    </tr>\n",
       "  </thead>\n",
       "  <tbody>\n",
       "    <tr>\n",
       "      <th>0</th>\n",
       "      <td>4</td>\n",
       "      <td>-8.0</td>\n",
       "      <td>79.0</td>\n",
       "      <td>1026.0</td>\n",
       "      <td>-5.0</td>\n",
       "      <td>23.69</td>\n",
       "      <td>0.0</td>\n",
       "      <td>0</td>\n",
       "      <td>0</td>\n",
       "      <td>1</td>\n",
       "      <td>1.0</td>\n",
       "    </tr>\n",
       "    <tr>\n",
       "      <th>1</th>\n",
       "      <td>4</td>\n",
       "      <td>-11.0</td>\n",
       "      <td>85.0</td>\n",
       "      <td>1021.0</td>\n",
       "      <td>-9.0</td>\n",
       "      <td>105.93</td>\n",
       "      <td>1.1</td>\n",
       "      <td>0</td>\n",
       "      <td>0</td>\n",
       "      <td>1</td>\n",
       "      <td>0.0</td>\n",
       "    </tr>\n",
       "    <tr>\n",
       "      <th>2</th>\n",
       "      <td>4</td>\n",
       "      <td>-21.0</td>\n",
       "      <td>43.0</td>\n",
       "      <td>1030.0</td>\n",
       "      <td>-11.0</td>\n",
       "      <td>117.55</td>\n",
       "      <td>0.0</td>\n",
       "      <td>0</td>\n",
       "      <td>1</td>\n",
       "      <td>0</td>\n",
       "      <td>0.0</td>\n",
       "    </tr>\n",
       "    <tr>\n",
       "      <th>3</th>\n",
       "      <td>4</td>\n",
       "      <td>-25.0</td>\n",
       "      <td>33.0</td>\n",
       "      <td>1034.0</td>\n",
       "      <td>-12.0</td>\n",
       "      <td>39.35</td>\n",
       "      <td>0.0</td>\n",
       "      <td>1</td>\n",
       "      <td>0</td>\n",
       "      <td>0</td>\n",
       "      <td>0.0</td>\n",
       "    </tr>\n",
       "    <tr>\n",
       "      <th>4</th>\n",
       "      <td>4</td>\n",
       "      <td>-24.0</td>\n",
       "      <td>30.0</td>\n",
       "      <td>1034.0</td>\n",
       "      <td>-10.0</td>\n",
       "      <td>59.00</td>\n",
       "      <td>0.0</td>\n",
       "      <td>1</td>\n",
       "      <td>0</td>\n",
       "      <td>0</td>\n",
       "      <td>0.0</td>\n",
       "    </tr>\n",
       "  </tbody>\n",
       "</table>\n",
       "</div>"
      ],
      "text/plain": [
       "   season  DEWP  HUMI    PRES  TEMP     Iws  precipitation  cbwd_NE  cbwd_NW  \\\n",
       "0       4  -8.0  79.0  1026.0  -5.0   23.69            0.0        0        0   \n",
       "1       4 -11.0  85.0  1021.0  -9.0  105.93            1.1        0        0   \n",
       "2       4 -21.0  43.0  1030.0 -11.0  117.55            0.0        0        1   \n",
       "3       4 -25.0  33.0  1034.0 -12.0   39.35            0.0        1        0   \n",
       "4       4 -24.0  30.0  1034.0 -10.0   59.00            0.0        1        0   \n",
       "\n",
       "   cbwd_SE  PM_HIGH  \n",
       "0        1      1.0  \n",
       "1        1      0.0  \n",
       "2        0      0.0  \n",
       "3        0      0.0  \n",
       "4        0      0.0  "
      ]
     },
     "execution_count": 5,
     "metadata": {},
     "output_type": "execute_result"
    }
   ],
   "source": [
    "beijing_data.head()"
   ]
  },
  {
   "cell_type": "code",
   "execution_count": 50,
   "metadata": {},
   "outputs": [],
   "source": [
    "#preprocessing, extract features and labels from the datasets\n",
    "beijing_copy = beijing_data.copy()\n",
    "shenyang_copy = shenyang_data.copy()\n",
    "\n",
    "features_beijing = beijing_copy.drop('PM_HIGH', axis=1)\n",
    "labels_beijing = beijing_copy['PM_HIGH'].astype(int)\n",
    "\n",
    "features_shenyang = shenyang_copy.drop('PM_HIGH', axis=1)\n",
    "labels_shenyang = shenyang_copy['PM_HIGH'].astype(int)\n",
    "\n",
    "#print(labels_beijing)\n",
    "\n",
    "\n",
    "#combine the beijing and shenyang features and labels to one training dataset\n",
    "Xtrain = pd.concat([features_beijing, features_shenyang])\n",
    "Ytrain = pd.concat([labels_beijing, labels_shenyang])\n",
    "\n",
    "#print(Xtrain)"
   ]
  },
  {
   "cell_type": "code",
   "execution_count": null,
   "metadata": {},
   "outputs": [],
   "source": [
    "#TODO: \n",
    "\n",
    "class Classifier:\n",
    "    def __init__(self):\n",
    "        pass\n",
    "\n",
    "    def fit(self):\n",
    "        pass\n",
    "\n",
    "    def predict(self):\n",
    "        pass\n",
    "\n",
    "    def score(self):\n",
    "        pass"
   ]
  },
  {
   "cell_type": "markdown",
   "metadata": {},
   "source": [
    "___\n",
    "Just testing..."
   ]
  },
  {
   "cell_type": "code",
   "execution_count": 62,
   "metadata": {},
   "outputs": [
    {
     "name": "stderr",
     "output_type": "stream",
     "text": [
      "c:\\Users\\P_Osk\\anaconda3\\lib\\site-packages\\sklearn\\cluster\\_kmeans.py:1412: FutureWarning: The default value of `n_init` will change from 10 to 'auto' in 1.4. Set the value of `n_init` explicitly to suppress the warning\n",
      "  super()._check_params_vs_input(X, default_n_init=10)\n"
     ]
    },
    {
     "name": "stdout",
     "output_type": "stream",
     "text": [
      "Accuracy: 0.9349112426035503\n"
     ]
    }
   ],
   "source": [
    "#Train the kmeans model\n",
    "\n",
    "test_clusters = 2\n",
    "\n",
    "kmeans = KMeans(n_clusters=test_clusters, random_state=0)\n",
    "cluster_labels = kmeans.fit_predict(Xtrain)\n",
    "\n",
    "#print(cluster_labels)\n",
    "\n",
    "#Assign labels to each centroids\n",
    "labels = np.zeros(test_clusters)\n",
    "for i in range(test_clusters):\n",
    "    \n",
    "    indices = np.where(cluster_labels == i)[0]\n",
    "    #print(indices)\n",
    "\n",
    "    \n",
    "    majority_label = Ytrain.iloc[indices].mode()[0]\n",
    "    #print(majority_label)\n",
    "    \n",
    "    labels[i] = majority_label\n",
    "\n",
    "\n",
    "\n",
    "features_guangzhou = guangzhou_data.copy().drop('PM_HIGH', axis=1) #Xtest\n",
    "labels_guangzhou = guangzhou_data.copy()['PM_HIGH'].astype(int) #Ytest\n",
    "\n",
    "predicted_clusters = kmeans.predict(features_guangzhou) #Ypredicted\n",
    "\n",
    "#print(predicted_clusters)\n",
    "\n",
    "score = [predicted_clusters == labels_guangzhou] #True or False at each index if the labels are correct\n",
    "\n",
    "print(f'Accuracy: {np.mean(score)}')\n",
    "\n",
    "\n",
    "\n"
   ]
  },
  {
   "cell_type": "markdown",
   "metadata": {},
   "source": []
  },
  {
   "cell_type": "code",
   "execution_count": null,
   "metadata": {},
   "outputs": [],
   "source": []
  }
 ],
 "metadata": {
  "kernelspec": {
   "display_name": "base",
   "language": "python",
   "name": "python3"
  },
  "language_info": {
   "codemirror_mode": {
    "name": "ipython",
    "version": 3
   },
   "file_extension": ".py",
   "mimetype": "text/x-python",
   "name": "python",
   "nbconvert_exporter": "python",
   "pygments_lexer": "ipython3",
   "version": "3.8.13"
  }
 },
 "nbformat": 4,
 "nbformat_minor": 2
}
